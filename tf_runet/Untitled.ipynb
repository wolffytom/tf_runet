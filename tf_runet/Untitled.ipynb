{
 "cells": [
  {
   "cell_type": "code",
   "execution_count": 1,
   "metadata": {},
   "outputs": [
    {
     "name": "stdout",
     "output_type": "stream",
     "text": [
      "-1\n",
      "1\n"
     ]
    }
   ],
   "source": [
    "# test python inner func\n",
    "x = -1\n",
    "\n",
    "def innerfunc():\n",
    "    print(x)\n",
    "\n",
    "innerfunc()\n",
    "x = 1\n",
    "innerfunc()"
   ]
  },
  {
   "cell_type": "code",
   "execution_count": 4,
   "metadata": {},
   "outputs": [
    {
     "name": "stdout",
     "output_type": "stream",
     "text": [
      "None\n"
     ]
    }
   ],
   "source": [
    "# test cost_kwargs\n",
    "cost_kwargs = {}\n",
    "cost_kwargs['c'] = 1\n",
    "b = cost_kwargs.pop(\"a\", None)\n",
    "print(b)"
   ]
  },
  {
   "cell_type": "code",
   "execution_count": 2,
   "metadata": {},
   "outputs": [
    {
     "ename": "NameError",
     "evalue": "name 'par1' is not defined",
     "output_type": "error",
     "traceback": [
      "\u001b[0;31m---------------------------------------------------------------------------\u001b[0m",
      "\u001b[0;31mNameError\u001b[0m                                 Traceback (most recent call last)",
      "\u001b[0;32m<ipython-input-2-346e6c6a5da0>\u001b[0m in \u001b[0;36m<module>\u001b[0;34m()\u001b[0m\n\u001b[1;32m      1\u001b[0m \u001b[0;31m# test parameters\u001b[0m\u001b[0;34m\u001b[0m\u001b[0;34m\u001b[0m\u001b[0m\n\u001b[0;32m----> 2\u001b[0;31m \u001b[0;32mdef\u001b[0m \u001b[0mtestparsfunc\u001b[0m\u001b[0;34m(\u001b[0m\u001b[0mpar1\u001b[0m\u001b[0;34m,\u001b[0m \u001b[0mpar2\u001b[0m \u001b[0;34m=\u001b[0m \u001b[0mpar1\u001b[0m\u001b[0;34m)\u001b[0m\u001b[0;34m:\u001b[0m\u001b[0;34m\u001b[0m\u001b[0m\n\u001b[0m\u001b[1;32m      3\u001b[0m     \u001b[0mprint\u001b[0m\u001b[0;34m(\u001b[0m\u001b[0mpar1\u001b[0m\u001b[0;34m)\u001b[0m\u001b[0;34m\u001b[0m\u001b[0m\n\u001b[1;32m      4\u001b[0m     \u001b[0mprint\u001b[0m\u001b[0;34m(\u001b[0m\u001b[0mpar2\u001b[0m\u001b[0;34m)\u001b[0m\u001b[0;34m\u001b[0m\u001b[0m\n\u001b[1;32m      5\u001b[0m \u001b[0;34m\u001b[0m\u001b[0m\n",
      "\u001b[0;31mNameError\u001b[0m: name 'par1' is not defined"
     ]
    }
   ],
   "source": [
    "# test parameters\n",
    "def testparsfunc(par1, par2 = par1):\n",
    "    print(par1)\n",
    "    print(par2)\n",
    "\n",
    "testparsfunc(1,2)"
   ]
  },
  {
   "cell_type": "code",
   "execution_count": 5,
   "metadata": {},
   "outputs": [
    {
     "name": "stdout",
     "output_type": "stream",
     "text": [
      "[[ 0.   1. ]\n",
      " [ 0.1  0.5]\n",
      " [ 0.2  0.1]\n",
      " [ 0.5  0.5]]\n",
      "[[ 0.26894143  0.7310586 ]\n",
      " [ 0.40131232  0.59868765]\n",
      " [ 0.52497917  0.4750208 ]\n",
      " [ 0.5         0.5       ]]\n",
      "[1 1 0 0]\n"
     ]
    }
   ],
   "source": [
    "import tensorflow as tf\n",
    "x = tf.placeholder(shape = (4,2), dtype=tf.float32)\n",
    "y = tf.nn.softmax(x)\n",
    "z = tf.argmax(y, axis=1)\n",
    "a = tf.cast(z, tf.float32)\n",
    "b = tf.reduce_mean(a)\n",
    "\n",
    "xipt = [[0,1],[0.1,0.5],[0.2,0.1],[0.5,0.5]]\n",
    "with tf.Session() as sess:\n",
    "    feed_dict = {\n",
    "        x: xipt\n",
    "    }\n",
    "    x, y, z, a, b = sess.run((x,y,z,a,b), feed_dict = feed_dict)\n",
    "    print(x)\n",
    "    print(y)\n",
    "    print(z)"
   ]
  },
  {
   "cell_type": "code",
   "execution_count": 20,
   "metadata": {},
   "outputs": [
    {
     "name": "stdout",
     "output_type": "stream",
     "text": [
      "[[ 0.  1.]\n",
      " [ 0.  1.]\n",
      " [ 0.  1.]\n",
      " [ 1.  0.]\n",
      " [ 1.  0.]\n",
      " [ 1.  0.]\n",
      " [ 1.  0.]\n",
      " [ 1.  0.]\n",
      " [ 1.  0.]\n",
      " [ 1.  0.]]\n",
      "[ 7.  3.]\n",
      "[ 0.29999998  0.69999999]\n",
      "[ 0.69999999  0.69999999  0.69999999  0.29999998  0.29999998  0.29999998\n",
      "  0.29999998  0.29999998  0.29999998  0.29999998]\n"
     ]
    }
   ],
   "source": [
    "# test the weight\n",
    "import tensorflow as tf\n",
    "labels = tf.placeholder(shape = (None,2), dtype=tf.float32)\n",
    "classes_distrib = tf.reduce_sum(labels, axis=0)\n",
    "classes_distrib_inv = 1 / classes_distrib\n",
    "classes_weights = classes_distrib_inv / tf.reduce_sum(class_distribution_inv)\n",
    "weight_map = tf.reduce_sum(labels * classes_weights, axis=1)\n",
    "#zero_weight = tf.reduce_sum(labels) / (tf.cast(tf.shape(labels)[0], dtype=tf.float32) * 2)\n",
    "#one_weight = 1 - zero_weight\n",
    "\n",
    "labels_ipt = [[0,1],[0,1],[0,1],[1,0],[1,0],[1,0],[1,0],[1,0],[1,0],[1,0]]\n",
    "with tf.Session() as sess:\n",
    "    feed_dict = {\n",
    "        labels: labels_ipt\n",
    "    }\n",
    "    labels,classes_distrib,classes_weights,weight_map = sess.run((labels,classes_distrib,classes_weights,weight_map), feed_dict = feed_dict)\n",
    "    print(labels)\n",
    "    print(classes_distrib)\n",
    "    print(classes_weights)\n",
    "    print(weight_map)\n",
    "    #print(test_reduce)"
   ]
  },
  {
   "cell_type": "code",
   "execution_count": 1,
   "metadata": {
    "collapsed": true
   },
   "outputs": [],
   "source": [
    "import os\n",
    "from PIL import Image\n",
    "import numpy as np\n",
    "import sys\n",
    "from tqdm import *\n",
    "\n",
    "class VOT2016_Data_Provider():\n",
    "    def __init__(self,pathofvot2016):\n",
    "        pathofinput = pathofvot2016 + '/input'\n",
    "        pathofgroundtruth = pathofvot2016 + '/groundtruth'\n",
    "        self.datanamelist = os.listdir(pathofgroundtruth)\n",
    "        self.datanamesize = len(self.datanamelist)\n",
    "        assert(self.datanamesize > 0)\n",
    "        self.datalength = []\n",
    "        self.inputdata = []\n",
    "        self.gtdata = []\n",
    "        self.maxsteps = -1\n",
    "        self.minsteps = 99999999\n",
    "        for idata in range(self.datanamesize):\n",
    "            input_pic_dir = pathofinput + '/' + self.datanamelist[idata]\n",
    "            input_gt_dir = pathofgroundtruth + '/' + self.datanamelist[idata]\n",
    "            piclist = os.listdir(input_pic_dir)\n",
    "            for inamen in range(len(piclist) - 1, -1,-1):\n",
    "                iname = piclist[inamen]\n",
    "                if (os.path.splitext(iname)[1] != '.jpg' and os.path.splitext(iname)[1] != '.png'):\n",
    "                    piclist.remove(iname)\n",
    "            piclist = sorted(piclist)\n",
    "            gtlist = os.listdir(input_gt_dir)\n",
    "            for inamen in range(len(gtlist) - 1, -1,-1):\n",
    "                iname = gtlist[inamen]\n",
    "                if (os.path.splitext(iname)[1] != '.jpg' and os.path.splitext(iname)[1] != '.png'):\n",
    "                    gtlist.remove(iname)\n",
    "            gtlist = sorted(gtlist)\n",
    "            assert(len(gtlist) == len(piclist))\n",
    "            datalength = len(gtlist)\n",
    "            if datalength > self.maxsteps: self.maxsteps = datalength\n",
    "            if datalength < self.minsteps: self.minsteps = datalength\n",
    "            self.datalength.append(datalength)\n",
    "            for inamen in range(datalength):\n",
    "                piclist[inamen] = input_pic_dir + '/' + piclist[inamen]\n",
    "                gtlist[inamen] = input_gt_dir + '/' + gtlist[inamen]\n",
    "            self.inputdata.append(piclist)\n",
    "            self.gtdata.append(gtlist)\n",
    "        print(self.datalength)\n",
    "        print(self.datanamelist)\n",
    "        print('DataOK, loaded %d groups data.' % (len(self.datalength)))\n",
    "        print('Max steps:%d' % (self.maxsteps))\n",
    "        print('Min steps:%d' % (self.minsteps))\n",
    "        self.pointer = 0\n",
    "        #self.bagdata, self.baglabel = self.get_data(8)\n",
    "    \n",
    "    def get_data(self, dataidx):\n",
    "        assert (0 <= dataidx and dataidx < self.datanamesize)\n",
    "        datname = self.datanamelist[dataidx]\n",
    "        inputnamelist = self.inputdata[dataidx]\n",
    "        gtnamelist = self.gtdata[dataidx]\n",
    "        steps = self.datalength[dataidx]\n",
    "        im1 = Image.open(inputnamelist[0])\n",
    "        im1_np = np.array(im1)\n",
    "        nx = len(im1_np)\n",
    "        ny = len(im1_np[0])\n",
    "        channals = len(im1_np[0][0])\n",
    "        assert(channals == 3)\n",
    "        np.zeros(4)\n",
    "        inputdata = np.zeros((steps, nx, ny, channals), dtype=np.float32)\n",
    "        gtdata = np.zeros((steps, nx, ny), dtype = np.bool)\n",
    "        print('loading data ' ,datname, '...')\n",
    "        for istep in tqdm(range(steps)):\n",
    "            im_ipt = Image.open(inputnamelist[istep])\n",
    "            inputdata[istep] = np.array(im_ipt)\n",
    "            im_gt = Image.open(gtnamelist[istep])\n",
    "            gtdata[istep] = np.array(im_gt)\n",
    "        gtdata = gtdata.reshape((steps*nx*ny))\n",
    "        gtdata = gtdata.astype(np.int32)\n",
    "        gtdataonehot = np.zeros((steps*nx*ny, 2), dtype=np.float32)\n",
    "        gtdataonehot[np.arange(steps*nx*ny), gtdata] = 1\n",
    "        gtdataonehot = gtdataonehot.reshape((steps,nx,ny,2))\n",
    "        return (inputdata, gtdataonehot)\n",
    "\n",
    "    def get_data_one_batch(self, dataidx):\n",
    "        inputdata, gtdataonehot = self.get_data(dataidx)\n",
    "        inputdata = inputdata.reshape([1] + list(np.shape(inputdata)))\n",
    "        gtdataonehot = gtdataonehot.reshape([1] + list(np.shape(gtdataonehot)))\n",
    "        # inputdata.dim:(batch_size = 1, steps, nx, ny, channals)\n",
    "        # gtdata.dim:(batch_size = 1, steps, nx, ny, nclass)\n",
    "        return (inputdata, gtdataonehot)\n",
    "\n",
    "    def __call__(self, batch_size = 1):\n",
    "        return self.bagdata, self.baglabel"
   ]
  },
  {
   "cell_type": "code",
   "execution_count": 2,
   "metadata": {},
   "outputs": [
    {
     "name": "stderr",
     "output_type": "stream",
     "text": [
      " 18%|█▊        | 36/196 [00:00<00:00, 355.78it/s]"
     ]
    },
    {
     "name": "stdout",
     "output_type": "stream",
     "text": [
      "[240, 1500, 267, 339, 129, 175, 350, 402, 196, 312, 292, 138, 707, 365, 76, 41, 392, 131, 713, 393, 377, 742, 366, 164, 201, 465, 151, 365, 118, 519, 105, 341, 140, 539, 682, 131, 201, 100, 191, 326, 61, 366, 351, 251, 708, 366, 844, 120, 567, 310, 63, 999, 156, 661, 725, 158, 558, 291, 293, 225]\n",
      "['gymnastics2', 'girl', 'hand', 'birds1', 'soccer2', 'book', 'bolt1', 'handball2', 'bag', 'tunnel', 'fernando', 'soldier', 'iceskater2', 'shaking', 'bmx', 'ball2', 'soccer1', 'crossing', 'pedestrian2', 'car2', 'handball1', 'car1', 'godfather', 'motocross1', 'sphere', 'gymnastics4', 'butterfly', 'tiger', 'gymnastics3', 'fish3', 'ball1', 'wiper', 'pedestrian1', 'birds2', 'fish4', 'singer3', 'marching', 'matrix', 'traffic', 'dinosaur', 'motocross2', 'fish1', 'singer1', 'sheep', 'helicopter', 'singer2', 'graduate', 'glove', 'gymnastics1', 'fish2', 'leaves', 'nature', 'racing', 'iceskater1', 'basketball', 'rabbit', 'road', 'octopus', 'bolt2', 'blanket']\n",
      "DataOK, loaded 60 groups data.\n",
      "Max steps:1500\n",
      "Min steps:41\n",
      "loading data  bag ...\n"
     ]
    },
    {
     "name": "stderr",
     "output_type": "stream",
     "text": [
      "100%|██████████| 196/196 [00:00<00:00, 348.11it/s]\n"
     ]
    }
   ],
   "source": [
    "    channels = 3\n",
    "    n_class = 2\n",
    "    dptest = VOT2016_Data_Provider('/home/cjl/data/vot2016')\n",
    "    iptdata, gtdata = dptest.get_data_one_batch(8)"
   ]
  },
  {
   "cell_type": "code",
   "execution_count": 3,
   "metadata": {
    "collapsed": true
   },
   "outputs": [],
   "source": [
    "iptdata = iptdata[:,0:10,:,:,:]\n",
    "gtdata = gtdata[:,0:10,:,:,:]"
   ]
  },
  {
   "cell_type": "code",
   "execution_count": 16,
   "metadata": {},
   "outputs": [
    {
     "data": {
      "text/plain": [
       "array([ 1.,  1.,  1., ...,  1.,  1.,  1.])"
      ]
     },
     "execution_count": 16,
     "metadata": {},
     "output_type": "execute_result"
    }
   ],
   "source": [
    "#gtdata.shape\n",
    "tt = np.ones(10 * 360 * 480)\n",
    "tt"
   ]
  },
  {
   "cell_type": "code",
   "execution_count": 17,
   "metadata": {},
   "outputs": [
    {
     "name": "stdout",
     "output_type": "stream",
     "text": [
      "[ 0.  0.  0. ...,  0.  0.  0.]\n",
      "[ 1.  1.  1. ...,  1.  1.  1.]\n",
      "0.0383524\n"
     ]
    }
   ],
   "source": [
    "import tensorflow as tf\n",
    "x = tf.placeholder(shape = (None,2), dtype=tf.float32)\n",
    "t = tf.placeholder(shape = (None), dtype=tf.float32)\n",
    "y = tf.nn.softmax(x)\n",
    "z = tf.argmax(y, axis=1)\n",
    "a = tf.cast(z, tf.float32)\n",
    "b = tf.reduce_mean(tf.cast(tf.equal(a, t), dtype=tf.float32))\n",
    "with tf.Session() as sess:\n",
    "    feed_dict = {\n",
    "        x: gtdata.reshape((10 * 360 * 480,2)),\n",
    "        t: tt\n",
    "    }\n",
    "    x, y, z, a, t,b = sess.run((x,y,z,a,t,b), feed_dict = feed_dict)\n",
    "print(a)\n",
    "print(t)\n",
    "print(b)"
   ]
  },
  {
   "cell_type": "code",
   "execution_count": null,
   "metadata": {
    "collapsed": true
   },
   "outputs": [],
   "source": []
  }
 ],
 "metadata": {
  "kernelspec": {
   "display_name": "Python 3",
   "language": "python",
   "name": "python3"
  },
  "language_info": {
   "codemirror_mode": {
    "name": "ipython",
    "version": 3
   },
   "file_extension": ".py",
   "mimetype": "text/x-python",
   "name": "python",
   "nbconvert_exporter": "python",
   "pygments_lexer": "ipython3",
   "version": "3.5.2"
  }
 },
 "nbformat": 4,
 "nbformat_minor": 2
}
